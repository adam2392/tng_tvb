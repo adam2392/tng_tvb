{
 "cells": [
  {
   "cell_type": "code",
   "execution_count": 9,
   "metadata": {},
   "outputs": [
    {
     "name": "stdout",
     "output_type": "stream",
     "text": [
      "The autoreload extension is already loaded. To reload it, use:\n",
      "  %reload_ext autoreload\n"
     ]
    }
   ],
   "source": [
    "import numpy as np\n",
    "import pandas as pd\n",
    "import os\n",
    "\n",
    "from tvb.simulator.lab import *\n",
    "import sys\n",
    "import scipy.io\n",
    "import tvbsim\n",
    "\n",
    "np.random.seed(123456789)\n",
    "\n",
    "import colorednoise as cn\n",
    "\n",
    "# plotting fxns\n",
    "import matplotlib\n",
    "import matplotlib.pyplot as plt\n",
    "import seaborn as sns\n",
    "\n",
    "%matplotlib inline\n",
    "%load_ext autoreload\n",
    "%autoreload 2"
   ]
  },
  {
   "cell_type": "code",
   "execution_count": 2,
   "metadata": {},
   "outputs": [
    {
     "name": "stdout",
     "output_type": "stream",
     "text": [
      "Already renamed seeg.xyz possibly!\n"
     ]
    }
   ],
   "source": [
    "# set all directories\n",
    "root_dir = os.path.join('/Users/adam2392/Documents/pydata/')\n",
    "\n",
    "patient='id008_gc'\n",
    "# patient ='id013_pg'\n",
    "# patient = 'id001_ac'\n",
    "\n",
    "expname = 'exp006'\n",
    "samplerate = 1000\n",
    "\n",
    "metadatadir = os.path.join(root_dir, \"metadata\", patient)\n",
    "outputdatadir = os.path.join('/Users/adam2392/Documents/pydata/tvbforwardsim/', expname)\n",
    "if not os.path.exists(outputdatadir):\n",
    "    os.makedirs(outputdatadir)\n",
    "\n",
    "tvbsim.util.renamefiles(patient, metadatadir)\n",
    "\n",
    "# get the important files\n",
    "getfilepath = lambda filename: os.path.join(metadatadir, filename)\n",
    "seegfile = getfilepath('seeg.txt')\n",
    "gainfile = getfilepath('gain_inv-square.txt')\n",
    "# surffile = getfilepath"
   ]
  },
  {
   "cell_type": "code",
   "execution_count": 3,
   "metadata": {},
   "outputs": [
    {
     "name": "stdout",
     "output_type": "stream",
     "text": [
      "['patient', 'pz', 'epiparams', 'seeg_xyz', 'onsettimes', 'x0ez', 'regions_centers', 'regions', 'offsettimes', 'x0pz', 'ez', 'pzindices', 'x0norm', 'ezindices', 'chanlabels']\n"
     ]
    }
   ],
   "source": [
    "dist = -1\n",
    "filename = os.path.join(outputdatadir, \n",
    "        patient+'_dist' + str(dist) + 'testall_longer.npz')\n",
    "npfile = open(filename, 'r')\n",
    "\n",
    "data = np.load(npfile)\n",
    "epits = data['epits']\n",
    "seegts = data['seegts']\n",
    "times = data['times']\n",
    "zts = data['zts']\n",
    "metadata = data['metadata'].item()\n",
    "\n",
    "print(metadata.keys())\n",
    "ezind = metadata['ezindices']\n",
    "pzind = metadata['pzindices']\n",
    "seizonsets = metadata['onsettimes']\n",
    "seizoffsets = metadata['offsettimes']\n",
    "region_labels = metadata['regions']\n",
    "\n",
    "# get the onsettimes and offsettimes for ez/pz indices\n",
    "allindices = np.append(ezind, pzind, axis=0).astype(int)\n",
    "postprocessor = tvbsim.postprocess.PostProcessor(samplerate=samplerate, allszindices=allindices)\n",
    "settimes = postprocessor.getonsetsoffsets(zts, allindices, lookahead=100, delta=0.2)# get the actual seizure times and offsets\n",
    "seizonsets, seizoffsets = postprocessor.getseiztimes(settimes, epsilon=0)"
   ]
  },
  {
   "cell_type": "code",
   "execution_count": 7,
   "metadata": {},
   "outputs": [
    {
     "ename": "TypeError",
     "evalue": "configure_coloured() takes exactly 3 arguments (1 given)",
     "output_type": "error",
     "traceback": [
      "\u001b[0;31m---------------------------------------------------------------------------\u001b[0m",
      "\u001b[0;31mTypeError\u001b[0m                                 Traceback (most recent call last)",
      "\u001b[0;32m<ipython-input-7-69dc214268fd>\u001b[0m in \u001b[0;36m<module>\u001b[0;34m()\u001b[0m\n\u001b[1;32m      1\u001b[0m \u001b[0mnoiseobject\u001b[0m \u001b[0;34m=\u001b[0m \u001b[0mtvbsim\u001b[0m\u001b[0;34m.\u001b[0m\u001b[0mpostprocess\u001b[0m\u001b[0;34m.\u001b[0m\u001b[0mnoise\u001b[0m\u001b[0;34m.\u001b[0m\u001b[0mNoise\u001b[0m\u001b[0;34m(\u001b[0m\u001b[0;34m)\u001b[0m\u001b[0;34m\u001b[0m\u001b[0m\n\u001b[0;32m----> 2\u001b[0;31m \u001b[0mnoiseobject\u001b[0m\u001b[0;34m.\u001b[0m\u001b[0mconfigure_coloured\u001b[0m\u001b[0;34m(\u001b[0m\u001b[0;34m)\u001b[0m\u001b[0;34m\u001b[0m\u001b[0m\n\u001b[0m",
      "\u001b[0;31mTypeError\u001b[0m: configure_coloured() takes exactly 3 arguments (1 given)"
     ]
    }
   ],
   "source": [
    "dt = 0.05\n",
    "\n",
    "noiseobject = tvbsim.postprocess.noise.Noise()\n",
    "noiseobject.configure_coloured(dt=dt, shape=)"
   ]
  },
  {
   "cell_type": "code",
   "execution_count": 11,
   "metadata": {},
   "outputs": [
    {
     "data": {
      "image/png": "[encoded data removed]",
      "text/plain": [
       "<matplotlib.figure.Figure at 0x1225f4a10>"
      ]
     },
     "metadata": {},
     "output_type": "display_data"
    }
   ],
   "source": [
    "beta = 2 # the exponent\n",
    "samples = 2**18 # number of samples to generate\n",
    "y = cn.powerlaw_psd_gaussian(beta, samples)\n",
    "\n",
    "# optionally plot the Power Spectral Density with Matplotlib\n",
    "from matplotlib import mlab\n",
    "#from matplotlib import pylab as plt\n",
    "s, f = mlab.psd(y, NFFT=2**13)\n",
    "plt.loglog(f,s)\n",
    "plt.grid(True)\n",
    "plt.show()"
   ]
  },
  {
   "cell_type": "code",
   "execution_count": null,
   "metadata": {},
   "outputs": [],
   "source": []
  }
 ],
 "metadata": {
  "kernelspec": {
   "display_name": "fragility",
   "language": "python",
   "name": "fragility"
  },
  "language_info": {
   "codemirror_mode": {
    "name": "ipython",
    "version": 2
   },
   "file_extension": ".py",
   "mimetype": "text/x-python",
   "name": "python",
   "nbconvert_exporter": "python",
   "pygments_lexer": "ipython2",
   "version": "2.7.11"
  }
 },
 "nbformat": 4,
 "nbformat_minor": 2
}
