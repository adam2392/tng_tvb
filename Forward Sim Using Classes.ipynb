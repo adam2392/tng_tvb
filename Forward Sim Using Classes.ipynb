{
 "cells": [
  {
   "cell_type": "code",
   "execution_count": 7,
   "metadata": {},
   "outputs": [
    {
     "name": "stdout",
     "output_type": "stream",
     "text": [
      "Populating the interactive namespace from numpy and matplotlib\n",
      "The autoreload extension is already loaded. To reload it, use:\n",
      "  %reload_ext autoreload\n"
     ]
    }
   ],
   "source": [
    "%pylab nbagg\n",
    "from tvb.simulator.lab import *\n",
    "import os.path\n",
    "from matplotlib import colors, cm\n",
    "import time\n",
    "import scipy.signal as sig\n",
    "\n",
    "import numpy as np\n",
    "import pandas as pd\n",
    "import scipy.io\n",
    "\n",
    "# downloaded library for peak detection in z time series\n",
    "import peakdetect\n",
    "\n",
    "%load_ext autoreload\n",
    "%autoreload 2"
   ]
  },
  {
   "cell_type": "code",
   "execution_count": 38,
   "metadata": {},
   "outputs": [],
   "source": [
    "from runmainsim import *"
   ]
  },
  {
   "cell_type": "code",
   "execution_count": 35,
   "metadata": {},
   "outputs": [
    {
     "name": "stdout",
     "output_type": "stream",
     "text": [
      "Project directory for meta data is :  /Users/adam2392/Documents/tvb/metadata/id002_cj\n",
      "Already renamed seeg.xyz possibly!\n",
      "Already renamed gain_inv-square.mat possibly!\n"
     ]
    },
    {
     "data": {
      "text/html": [
       "<table width=100%><tr><td>initial_conditions</td><td>None</td></tr><tr><td>coupling</td><td>Difference(a=1)</td></tr><tr><td>stimulus</td><td>None</td></tr><tr><td>integrator</td><td>HeunStochastic(dt=0.04, noise=Additive(dt=0.04, ntau=0))</td></tr><tr><td>surface</td><td>None</td></tr><tr><td>connectivity</td><td>Connectivity(bound=False, value=None)</td></tr><tr><td>conduction_speed</td><td>inf</td></tr><tr><td>simulation_length</td><td>5000</td></tr><tr><td>model</td><td>Epileptor(bound=False, value=None)</td></tr><tr><td>monitors</td><td>[TemporalAverage(bound=False, value=None), iEEG(bound=False, value=None)]</td></tr>"
      ],
      "text/plain": [
       "Simulator(bound=False, value=None)"
      ]
     },
     "metadata": {},
     "output_type": "display_data"
    }
   ],
   "source": [
    "patients = ['id001_ac', 'id002_cj', 'id014_rb']\n",
    "for patient in patients:\n",
    "#     patient='cj'\n",
    "    # 1000 = 1 second\n",
    "    samplerate = 1000 # Hz\n",
    "    sim_length = 60*samplerate\n",
    "\n",
    "    ezregion = []\n",
    "    pzregion = []\n",
    "\n",
    "    x0norm=-2.3\n",
    "    x0ez=-1.8\n",
    "    x0pz=2.05\n",
    "\n",
    "    root_dir = os.getcwd()\n",
    "    project_dir = os.path.join(root_dir, \"metadata/\"+patient)\n",
    "    print \"Project directory for meta data is : \", project_dir\n",
    "\n",
    "    confile = os.path.join(project_dir, \"connectivity.zip\")\n",
    "\n",
    "    # convert seeg.xyz to seeg.txt file\n",
    "    sensorsfile = os.path.join(project_dir, \"seeg.xyz\")\n",
    "    newsensorsfile = os.path.join(project_dir, \"seeg.txt\")\n",
    "    try:\n",
    "        os.rename(sensorsfile, newsensorsfile)\n",
    "    except:\n",
    "        print \"Already renamed seeg.xyz possibly!\"\n",
    "\n",
    "    # convert gain_inv-square.mat file into gain_inv-square.txt file\n",
    "    gainmatfile = os.path.join(project_dir, \"gain_inv-square.mat\")\n",
    "    newgainmatfile = os.path.join(project_dir, \"gain_inv-square.txt\")\n",
    "    try:\n",
    "        os.rename(gainmatfile, newgainmatfile)\n",
    "    except:\n",
    "        print \"Already renamed gain_inv-square.mat possibly!\"\n",
    "\n",
    "    sim, configs = initmodel(confile, newsensorsfile, newgainmatfile, ezregion=ezregion, pzregion=pzregion, x0norm=x0norm, x0ez=x0ez, x0pz=x0pz)\n",
    "    times, epilepts, seegts = runsim(sim, sim_length)\n",
    "\n",
    "    # save data now from output and get relevant data\n",
    "    display(configs)\n",
    "\n",
    "    outputdir = os.path.join(root_dir, 'output')\n",
    "    filename = os.path.join(outputdir, patient+'_sim_nez'+str(len(ezregion))+\\\n",
    "                                        '_npz'+str(len(pzregion))+'.npz')\n",
    "\n",
    "    ######################## POST PROCESSING #################################\n",
    "    # post process by cutting off first 5 seconds of simulation\n",
    "    times, epits, seegts, zts = postprocts(epilepts, seegts, times)\n",
    "\n",
    "    ezindices, pzindices = getindexofregion(configs.connectivity.region_labels, ezregion, pzregion)\n",
    "    # get the onset, offset times\n",
    "    onsettimes = None\n",
    "    offsettimes = None\n",
    "    try:\n",
    "        onsettimes, offsettimes = findonsetoffset(zts[:, ezindices].squeeze())\n",
    "    except:\n",
    "        print \"Still not working...\"\n",
    "\n",
    "    ######################## SAVING ALL DATA #################################\n",
    "    regions = configs.connectivity.region_labels\n",
    "    # Save files\n",
    "    meta = {\n",
    "        'x0ez':x0ez,\n",
    "        'x0pz':x0pz,\n",
    "        'x0norm':x0norm,\n",
    "        'ez': regions[ezindices],\n",
    "        'pz': regions[pzindices],\n",
    "        'ezindices': ezindices,\n",
    "        'pzindices': pzindices,\n",
    "        'onsettimes':onsettimes,\n",
    "        'offsettimes':offsettimes,\n",
    "        'patient':patient\n",
    "    }\n",
    "\n",
    "    # save tseries\n",
    "    np.savez(filename, epits=epits, seegts=seegts, \\\n",
    "             times=times, zts=zts, metadata=meta)"
   ]
  },
  {
   "cell_type": "code",
   "execution_count": null,
   "metadata": {},
   "outputs": [],
   "source": []
  }
 ],
 "metadata": {
  "kernelspec": {
   "display_name": "Python 2",
   "language": "python",
   "name": "python2"
  },
  "language_info": {
   "codemirror_mode": {
    "name": "ipython",
    "version": 2
   },
   "file_extension": ".py",
   "mimetype": "text/x-python",
   "name": "python",
   "nbconvert_exporter": "python",
   "pygments_lexer": "ipython2",
   "version": "2.7.11"
  }
 },
 "nbformat": 4,
 "nbformat_minor": 2
}
