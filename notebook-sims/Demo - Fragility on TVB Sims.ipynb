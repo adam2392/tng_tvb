{
 "cells": [
  {
   "cell_type": "code",
   "execution_count": 22,
   "metadata": {},
   "outputs": [
    {
     "name": "stdout",
     "output_type": "stream",
     "text": [
      "Populating the interactive namespace from numpy and matplotlib\n",
      "The autoreload extension is already loaded. To reload it, use:\n",
      "  %reload_ext autoreload\n"
     ]
    }
   ],
   "source": [
    "%pylab nbagg\n",
    "from tvb.simulator.lab import *\n",
    "from tvb.analyzers\n",
    "from tvb.datatypes.time_series import TimeSeriesSEEG\n",
    "\n",
    "import os.path\n",
    "from matplotlib import colors, cm\n",
    "import time\n",
    "import scipy.signal as sig\n",
    "import scipy.io as sio\n",
    "%load_ext autoreload\n",
    "%autoreload 2"
   ]
  },
  {
   "cell_type": "code",
   "execution_count": 12,
   "metadata": {},
   "outputs": [],
   "source": [
    "patient = 'id013_pg'\n",
    "project_dir = '/Users/adam2392/Documents/pydata/metadata/' + patient"
   ]
  },
  {
   "cell_type": "code",
   "execution_count": 13,
   "metadata": {},
   "outputs": [
    {
     "name": "stdout",
     "output_type": "stream",
     "text": [
      "WARNING  File 'hemispheres' not found in ZIP.\n"
     ]
    }
   ],
   "source": [
    "con = connectivity.Connectivity.from_file(os.path.join(project_dir, \"connectivity.zip\"))\n",
    "con.speed = np.inf\n",
    "con.cortical[:] = True     # To avoid adding analytical gain matrix for subcortical sources\n",
    "# normalize\n",
    "con.weights = con.weights/np.max(con.weights)\n",
    "nb_regions = len(con.region_labels)"
   ]
  },
  {
   "cell_type": "code",
   "execution_count": 19,
   "metadata": {},
   "outputs": [
    {
     "name": "stdout",
     "output_type": "stream",
     "text": [
      "84\n"
     ]
    }
   ],
   "source": [
    "x0ez=-1.6\n",
    "x0pz=-2.4\n",
    "x0num=-2.4\n",
    "\n",
    "ezind = 0\n",
    "\n",
    "coupl = coupling.Difference(a=1.)\n",
    "\n",
    "#Initialise some Monitors with period in physical time\n",
    "mon_tavg = monitors.TemporalAverage(period=1.)\n",
    "\n",
    "print nb_regions\n",
    "\n",
    "# Integrator\n",
    "hiss = noise.Additive(nsig = numpy.array([0.001, 0.001, 0., 0.0001, 0.0001, 0.]))\n",
    "heunint = integrators.HeunStochastic(dt=0.05, noise=hiss)\n",
    "\n",
    "\n",
    "# Epileptor model\n",
    "epileptors = models.Epileptor(Ks=-2, r=0.0002, tau = 10, tt = 0.07)\n",
    "epileptors.x0 = -2.4*np.ones(nb_regions)\n",
    "epileptors.x0[ezind] = -1.6\n",
    "\n",
    "epileptors.state_variable_range['x1'] = r_[-0.5, 0.1]\n",
    "epileptors.state_variable_range['z'] = r_[3.5,3.7]\n",
    "epileptors.state_variable_range['y1'] = r_[-0.1,1]\n",
    "epileptors.state_variable_range['x2'] = r_[-2.,0.]\n",
    "epileptors.state_variable_range['y2'] = r_[0.,2.]\n",
    "epileptors.state_variable_range['g'] = r_[-1.,1.]\n",
    "\n",
    "# monitors\n",
    "mon_tavg = monitors.TemporalAverage(period=1.0)\n",
    "mon_SEEG = monitors.iEEG.from_file(sensors_fname=os.path.join(project_dir, \"seeg.txt\"),\n",
    "                                   projection_fname=os.path.join(project_dir, \"gain_inv-square.txt\"),\n",
    "                                   period=1.0,\n",
    "                                   variables_of_interest=[0]\n",
    "                                   )\n",
    "\n",
    "num_contacts = mon_SEEG.sensors.labels.size\n",
    "\n",
    "# run simulation\n",
    "sim = simulator.Simulator(model=epileptors,\n",
    "                          connectivity=con,\n",
    "                          coupling=coupl,\n",
    "                          conduction_speed=np.inf,                          \n",
    "                          integrator=heunint,\n",
    "                          monitors=[mon_tavg, mon_SEEG])\n",
    "\n",
    "sim.configure()\n",
    "\n",
    "(ttavg, tavg), (tseeg, seeg) = sim.run(simulation_length=10000)\n",
    "\n",
    "# Normalize the time series to have nice plots\n",
    "tavgn = tavg/(np.max(tavg, 0) - np.min(tavg, 0))\n",
    "seegn = seeg/(np.max(seeg, 0) - np.min(seeg, 0))\n",
    "seegn = seegn - np.mean(seegn, 0)"
   ]
  },
  {
   "cell_type": "code",
   "execution_count": 20,
   "metadata": {},
   "outputs": [
    {
     "name": "stdout",
     "output_type": "stream",
     "text": [
      "(10000,)\n",
      "(10000, 2, 84, 1)\n",
      "(10000, 1, 59, 1)\n"
     ]
    }
   ],
   "source": [
    "print(ttavg.shape)\n",
    "print(tavg.shape)\n",
    "print(seeg.shape)"
   ]
  },
  {
   "cell_type": "markdown",
   "metadata": {},
   "source": [
    "# Setup Data to Be Analyzed By Fragility\n",
    "\n",
    "0. Add randomized line noise if not added with somewhat wide bandwidths (optional)\n",
    "1. Filter line noise with narrow bands\n",
    "2. Compute the MVAR models\n",
    "3. Compute the fragility models"
   ]
  },
  {
   "cell_type": "code",
   "execution_count": 21,
   "metadata": {},
   "outputs": [],
   "source": [
    "b, a = sig.butter(2, 0.1, btype='highpass', output='ba')\n",
    "seegf = np.zeros(seegn.shape)\n",
    "for i in range(num_contacts):\n",
    "    seegf[:, 0, i, 0] = sig.filtfilt(b, a, seeg[:, 0, i, 0])"
   ]
  },
  {
   "cell_type": "code",
   "execution_count": 23,
   "metadata": {},
   "outputs": [
    {
     "ename": "AttributeError",
     "evalue": "'module' object has no attribute 'mvarwindowed'",
     "output_type": "error",
     "traceback": [
      "\u001b[0;31m---------------------------------------------------------------------------\u001b[0m",
      "\u001b[0;31mAttributeError\u001b[0m                            Traceback (most recent call last)",
      "\u001b[0;32m<ipython-input-23-5a32fd622bc7>\u001b[0m in \u001b[0;36m<module>\u001b[0;34m()\u001b[0m\n\u001b[1;32m      1\u001b[0m \u001b[0;31m# initialize models\u001b[0m\u001b[0;34m\u001b[0m\u001b[0;34m\u001b[0m\u001b[0m\n\u001b[0;32m----> 2\u001b[0;31m \u001b[0mmvarcomp\u001b[0m \u001b[0;34m=\u001b[0m \u001b[0mfragility\u001b[0m\u001b[0;34m.\u001b[0m\u001b[0mmvarwindowed\u001b[0m\u001b[0;34m(\u001b[0m\u001b[0;34m)\u001b[0m\u001b[0;34m\u001b[0m\u001b[0m\n\u001b[0m\u001b[1;32m      3\u001b[0m \u001b[0mfragcomp\u001b[0m \u001b[0;34m=\u001b[0m \u001b[0mfragility\u001b[0m\u001b[0;34m.\u001b[0m\u001b[0mfragilitymodel\u001b[0m\u001b[0;34m(\u001b[0m\u001b[0;34m)\u001b[0m\u001b[0;34m\u001b[0m\u001b[0m\n",
      "\u001b[0;31mAttributeError\u001b[0m: 'module' object has no attribute 'mvarwindowed'"
     ]
    }
   ],
   "source": [
    "# initialize models\n",
    "mvarcomp = fragility.mvarwindowed()\n",
    "fragcomp = fragility.fragilitymodel()"
   ]
  },
  {
   "cell_type": "code",
   "execution_count": null,
   "metadata": {},
   "outputs": [],
   "source": []
  },
  {
   "cell_type": "code",
   "execution_count": null,
   "metadata": {},
   "outputs": [],
   "source": [
    "tsr = TimeSeriesRegion(connectivity=sim.connectivity,\n",
    "                       data=tavg_samples,\n",
    "                       sample_period=sim.monitors[0].period)\n",
    "tsr.configure()"
   ]
  },
  {
   "cell_type": "code",
   "execution_count": null,
   "metadata": {},
   "outputs": [],
   "source": [
    "corrcoeff_analyser = corr_coeff.CorrelationCoefficient(time_series=tsr)\n",
    "corrcoeff_data = corrcoeff_analyser.evaluate()\n",
    "corrcoeff_data.configure()\n",
    "FC = corrcoeff_data.array_data[..., 0, 0]"
   ]
  },
  {
   "cell_type": "code",
   "execution_count": null,
   "metadata": {},
   "outputs": [],
   "source": [
    "plot_tri_matrix(FC,\n",
    "                cmap=pyplot.cm.RdYlBu_r, \n",
    "                node_labels= sim.connectivity.region_labels,\n",
    "                size=[10., 10.],\n",
    "                color_anchor=(-1.0, 1.0));"
   ]
  },
  {
   "cell_type": "code",
   "execution_count": null,
   "metadata": {},
   "outputs": [],
   "source": []
  },
  {
   "cell_type": "code",
   "execution_count": null,
   "metadata": {},
   "outputs": [],
   "source": []
  }
 ],
 "metadata": {
  "kernelspec": {
   "display_name": "fragility",
   "language": "python",
   "name": "fragility"
  },
  "language_info": {
   "codemirror_mode": {
    "name": "ipython",
    "version": 2
   },
   "file_extension": ".py",
   "mimetype": "text/x-python",
   "name": "python",
   "nbconvert_exporter": "python",
   "pygments_lexer": "ipython2",
   "version": "2.7.11"
  }
 },
 "nbformat": 4,
 "nbformat_minor": 2
}
