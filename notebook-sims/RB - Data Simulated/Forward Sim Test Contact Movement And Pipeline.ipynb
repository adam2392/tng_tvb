{
 "cells": [
  {
   "cell_type": "code",
   "execution_count": 10,
   "metadata": {},
   "outputs": [
    {
     "name": "stdout",
     "output_type": "stream",
     "text": [
      "Populating the interactive namespace from numpy and matplotlib\n",
      "The autoreload extension is already loaded. To reload it, use:\n",
      "  %reload_ext autoreload\n"
     ]
    }
   ],
   "source": [
    "%pylab nbagg\n",
    "from tvb.simulator.lab import *\n",
    "import os.path\n",
    "from matplotlib import colors, cm\n",
    "import time\n",
    "import scipy.signal as sig\n",
    "\n",
    "import numpy as np\n",
    "import pandas as pd\n",
    "import scipy.io\n",
    "import scipy\n",
    "\n",
    "# downloaded library for peak detection in z time series\n",
    "import peakdetect\n",
    "from tvbsim.util import *\n",
    "\n",
    "from runmainsim import *\n",
    "\n",
    "%load_ext autoreload\n",
    "%autoreload 2"
   ]
  },
  {
   "cell_type": "markdown",
   "metadata": {},
   "source": [
    "# Analyze Region and Test Functions To Modify Contacts"
   ]
  },
  {
   "cell_type": "code",
   "execution_count": 13,
   "metadata": {
    "scrolled": false
   },
   "outputs": [
    {
     "name": "stdout",
     "output_type": "stream",
     "text": [
      "is left\n",
      "is left\n",
      "(70, 84)\n",
      "OR'1\n",
      "           x      y      z\n",
      "OR'1  -17.97  -4.23   4.62\n",
      "OR'2  -18.36  -2.37   7.56\n",
      "OR'3  -18.75  -0.52  10.50\n",
      "OR'4  -19.13   1.34  13.45\n",
      "OR'5  -19.52   3.20  16.39\n",
      "OR'6  -19.90   5.05  19.33\n",
      "OR'7  -20.29   6.91  22.27\n",
      "OR'8  -20.68   8.76  25.22\n",
      "OR'9  -21.06  10.62  28.16\n",
      "OR'10 -21.45  12.47  31.10\n",
      "OR'11 -21.84  14.33  34.04\n",
      "OR'12 -22.22  16.18  36.99\n",
      "OR'13 -22.61  18.04  39.93\n",
      "OR'14 -22.99  19.90  42.87\n",
      "             x        y        z\n",
      "OR'1   10.4662  59.5403  -5.6749\n",
      "OR'2   10.0762  61.4003  -2.7349\n",
      "OR'3    9.6862  63.2503   0.2051\n",
      "OR'4    9.3062  65.1103   3.1551\n",
      "OR'5    8.9162  66.9703   6.0951\n",
      "OR'6    8.5362  68.8203   9.0351\n",
      "OR'7    8.1462  70.6803  11.9751\n",
      "OR'8    7.7562  72.5303  14.9251\n",
      "OR'9    7.3762  74.3903  17.8651\n",
      "OR'10   6.9862  76.2403  20.8051\n",
      "OR'11   6.5962  78.1003  23.7451\n",
      "OR'12   6.2162  79.9503  26.6951\n",
      "OR'13   5.8262  81.8103  29.6351\n",
      "OR'14   5.4462  83.6703  32.5751\n",
      "          x     y     z\n",
      "OR'1 -17.97 -4.23  4.62\n"
     ]
    }
   ],
   "source": [
    "patient = 'id001_ac'\n",
    "project_dir = '/Users/adam2392/Documents/tvb/metadata/'\n",
    "confile = os.path.join(project_dir, patient, \"connectivity.zip\")\n",
    "####################### 1. Extract Relevant Info ########################\n",
    "con = extractcon(confile)\n",
    "region_centers = con.centres\n",
    "regions = con.region_labels\n",
    "seegfile = os.path.join(project_dir, patient, \"seeg.txt\")\n",
    "seeg_xyz = extractseegxyz(seegfile)\n",
    "\n",
    "# first get all contacts of the same electrode\n",
    "seeg_labels = np.array(seeg_xyz.index, dtype='str')\n",
    "\n",
    "# determine closest contact for region\n",
    "ezregion = ['ctx-lh-bankssts']\n",
    "ezindice, pzindice = getindexofregion(regions, ezregion)\n",
    "near_seeg = findclosestcontact(ezindice, region_centers, seeg_xyz)\n",
    "\n",
    "# now move contact and recompute gain matrix\n",
    "seeg_contact = np.array(seeg_xyz.iloc[near_seeg[1]].index, dtype='str')[0]\n",
    "electrodeindices = getallcontacts(seeg_labels, seeg_contact)\n",
    "\n",
    "new_seeg_xyz = movecontact(seeg_xyz, region_centers, ezindice, seeg_contact)\n",
    "\n",
    "gainmat = simplest_gain_matrix(new_seeg_xyz.as_matrix(), reg_xyz=region_centers)\n",
    "\n",
    "print gainmat.shape\n",
    "print seeg_contact\n",
    "print seeg_xyz.iloc[electrodeindices]\n",
    "print new_seeg_xyz.iloc[electrodeindices]\n",
    "\n",
    "# print near_seeg[1].ravel()\n",
    "print seeg_xyz.iloc[near_seeg[1]]"
   ]
  },
  {
   "cell_type": "markdown",
   "metadata": {},
   "source": [
    "# Summary\n",
    "\n",
    "Here, I created a suite of utility functions for modifying the simulation paradigm by moving contacts around based on the ezregion specified. In addition, it will move the entire contact and create a new very simplified gain matrix.\n",
    "\n",
    "This can all be plugged back into the corresponding tvb simulation.\n",
    "\n",
    "To Do:\n",
    "* Moving contacts to within a specified distance from ez region\n",
    "* Get the close by regions within a distance for a seeg contact\n",
    "* Constrain the movement to make sure implantation is realistic? It is possible for contacts to be very close to other electrode's contacts right now upon artificial movement."
   ]
  },
  {
   "cell_type": "code",
   "execution_count": null,
   "metadata": {},
   "outputs": [],
   "source": []
  }
 ],
 "metadata": {
  "kernelspec": {
   "display_name": "Python 2",
   "language": "python",
   "name": "python2"
  },
  "language_info": {
   "codemirror_mode": {
    "name": "ipython",
    "version": 2
   },
   "file_extension": ".py",
   "mimetype": "text/x-python",
   "name": "python",
   "nbconvert_exporter": "python",
   "pygments_lexer": "ipython2",
   "version": "2.7.11"
  }
 },
 "nbformat": 4,
 "nbformat_minor": 2
}
