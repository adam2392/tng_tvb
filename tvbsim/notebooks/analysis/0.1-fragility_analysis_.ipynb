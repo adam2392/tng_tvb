{
 "cells": [
  {
   "cell_type": "markdown",
   "metadata": {},
   "source": [
    "# Fragility Analysis of TVB Simulations\n",
    "\n",
    "7/9/18: Fragility analysis of different TVB simulations to observe effects of the noise level, conduction speed, and other parameters on fragility metric."
   ]
  },
  {
   "cell_type": "code",
   "execution_count": 1,
   "metadata": {},
   "outputs": [
    {
     "name": "stdout",
     "output_type": "stream",
     "text": [
      "Number of CPUs we can use:  8\n"
     ]
    }
   ],
   "source": [
    "import resource \n",
    "resource.setrlimit(resource.RLIMIT_NOFILE, (10000, -1))\n",
    "\n",
    "import numpy as np\n",
    "import os\n",
    "import sys\n",
    "import mne\n",
    "import json\n",
    "import pandas as pd\n",
    "\n",
    "from scipy.stats import linregress\n",
    "\n",
    "# import basic plotting\n",
    "import matplotlib\n",
    "import matplotlib.pyplot as plt\n",
    "import seaborn as sns\n",
    "\n",
    "sys.path.append('/Users/adam2392/Documents/fragility_analysis/')\n",
    "import fragility\n",
    "from fragility.io.loaders.dataset.tvbsim import RecordingSim\n",
    "from fragility.io.loaders.dataset.loadtvbdata import StructuralDataLoader\n",
    "from fragility.io.loaders.patient.subject import Subject\n",
    "\n",
    "from fragility.io.loaders.results.mvar import ResultsMVAR\n",
    "from fragility.io.loaders.results.pert import ResultsPert\n",
    "\n",
    "import multiprocessing as mp\n",
    "from fragility.execute.cluster.hpc_mvarmodel import MvarMPModel\n",
    "from fragility.execute.cluster.hpc_pertmodel import PertMPModel\n",
    "from fragility.execute.cluster.hpc_merge import MergeCompute\n",
    "\n",
    "print(\"Number of CPUs we can use: \", mp.cpu_count())\n",
    "\n",
    "# Import magic commands for jupyter notebook \n",
    "# - autoreloading a module\n",
    "# - profiling functions for memory usage and scripts\n",
    "%load_ext autoreload\n",
    "%autoreload 2\n",
    "%load_ext line_profiler\n",
    "%load_ext memory_profiler\n",
    "\n",
    "def movingaverage(interval, window_size):\n",
    "    window = np.ones(int(window_size))/float(window_size)\n",
    "    return np.convolve(interval, window, 'same')\n",
    "\n"
   ]
  },
  {
   "cell_type": "code",
   "execution_count": 2,
   "metadata": {},
   "outputs": [],
   "source": [
    "def map_ind_with_gain(gainmat, inds, thresh=0.1):\n",
    "    # first normalize gain matrix\n",
    "    gainmat = gainmat / np.max(gainmat)\n",
    "    gainmat[gainmat < thresh] = 0\n",
    "    # initialize region mapping from regions -> contacts\n",
    "    contact_inds = []\n",
    "    for ind in inds:\n",
    "        # get current row on result matrix, and find max to gain matrix\n",
    "        regcontact = np.where(gainmat[:,ind] == np.max(gainmat[:,ind]))[0][0]\n",
    "        # add to the reg_matrix\n",
    "        contact_inds.append(regcontact)\n",
    "    return contact_inds\n",
    "\n",
    "def map_ez_with_gain(gainmat, thresh=0.1):\n",
    "    # first normalize gain matrix\n",
    "    gainmat = gainmat / np.max(gainmat)\n",
    "    gainmat[gainmat < thresh] = 0\n",
    "    # initialize region mapping from regions -> contacts\n",
    "    reg_hash = dict()\n",
    "    for i in range(gainmat.shape[0]):\n",
    "        # get current row on result matrix, and find max to gain matrix\n",
    "        contactreg = np.where(gainmat[i,:] == np.max(gainmat[i,:]))[0][0]\n",
    "        # add to the reg_matrix\n",
    "        if contactreg not in reg_hash.keys():\n",
    "            reg_hash[contactreg] = [i]\n",
    "        else:\n",
    "            reg_hash[contactreg].append(i)\n",
    "    return reg_hash\n",
    "def map_ez_with_regs(contact_regs):\n",
    "    # initialize region mapping from regions -> contacts\n",
    "    reg_hash = dict()\n",
    "    for icontact in range(len(contact_regs)):\n",
    "        contactreg = contact_regs[icontact] - 1\n",
    "        if contactreg not in reg_hash.keys():\n",
    "            reg_hash[contactreg] = 1\n",
    "        else:\n",
    "            reg_hash[contactreg] += 1\n",
    "    return reg_hash"
   ]
  },
  {
   "cell_type": "markdown",
   "metadata": {},
   "source": [
    "# Run Fragility Analysis"
   ]
  },
  {
   "cell_type": "code",
   "execution_count": 4,
   "metadata": {},
   "outputs": [
    {
     "name": "stdout",
     "output_type": "stream",
     "text": [
      "<fragility.io.loaders.dataset.loadtvbdata.StructuralDataLoader object at 0x10d92f198>\n"
     ]
    }
   ],
   "source": [
    "# load in structural data for this patient\n",
    "patient = 'id002_cj'\n",
    "rawdatadir = os.path.join('/Volumes/ADAM LI/rawdata/pipelinedata/_old/', patient)\n",
    "rawloader = StructuralDataLoader(root_dir=rawdatadir)\n",
    "print(rawloader)"
   ]
  },
  {
   "cell_type": "code",
   "execution_count": 5,
   "metadata": {},
   "outputs": [],
   "source": [
    "outputdatadir = os.path.expanduser('~/Downloads/tvbsim_exp/sim_output')\n",
    "\n",
    "reference = 'monopolar'\n",
    "\n",
    "rawdatadir = os.path.join(outputdatadir, patient)"
   ]
  },
  {
   "cell_type": "code",
   "execution_count": 6,
   "metadata": {},
   "outputs": [
    {
     "name": "stdout",
     "output_type": "stream",
     "text": [
      "Creating RawArray with float64 data, n_channels=162, n_times=45000\n",
      "    Range : 0 ... 44999 =      0.000 ...    44.999 secs\n",
      "Ready.\n",
      "Set line frequency as: 50\n",
      "reference is  monopolar\n",
      "Loading monopolar data!\n",
      "Loaded  id002_cj_cond=3_iext=3.1_eps1=-0.5_default.json\n",
      "['id002_cj_cond=3_default.json', 'id002_cj_cond=3_iext=3.1_eps1=-0.5_default.json', 'id002_cj_cond=3_iext=3.1_eps1=0.5_default.json', 'id002_cj_cond=3_iext=3.1_eps1=-0.25_default.json', 'id002_cj_cond=3_iext=3.5_eps1=0.5_default.json', 'id002_cj_cond=3_iext=3.1_eps1=0.25_default.json']\n",
      "(162, 45000)\n",
      "dict_keys(['chanlabels', 'chanxyz', 'clinez', 'clinpz', 'condspeed', 'ezindices', 'ezregs', 'gainmat', 'goodchaninds', 'offsettimes', 'onsettimes', 'patient', 'pzindices', 'pzregs', 'regions', 'regions_centers', 'samplerate', 'shuffledpat', 'simfilename', 'x0ez', 'x0norm', 'x0pz', 'lowpass_freq', 'highpass_freq', 'meas_date', 'linefreq', 'onsetsec', 'offsetsec', 'onsetind', 'offsetind', 'rawfilename', 'reference', 'type', 'bad_channels', 'non_eeg_channels', 'chanxyzlabels', 'contact_regs', 'regezinds', 'atlas', 'clinezelecs', 'clinresectelecs'])\n"
     ]
    }
   ],
   "source": [
    "recording = RecordingSim(root_dir=rawdatadir, preload=False)\n",
    "jsonfilepaths = recording.jsonfilepaths\n",
    "\n",
    "jsonfilepath = jsonfilepaths[1]\n",
    "recording.load_sim(jsonfilepath)\n",
    "rawdata = recording.load_all(reference=reference)\n",
    "\n",
    "# mask data appropriately\n",
    "recording.mask_meta_data()\n",
    "rawdata = recording.mask_raw_data(rawdata)\n",
    "metadata = recording.metadata\n",
    "\n",
    "print(\"Loaded \", jsonfilepath)\n",
    "print(jsonfilepaths)\n",
    "print(rawdata.shape)\n",
    "print(metadata.keys())"
   ]
  },
  {
   "cell_type": "code",
   "execution_count": 10,
   "metadata": {},
   "outputs": [
    {
     "name": "stdout",
     "output_type": "stream",
     "text": [
      "/Users/adam2392/Downloads/temp/id002_cj/id002_cj_cond=3_iext=3.1_eps1=-0.5_default_mvar.json\n",
      "/Users/adam2392/Downloads/temp/id002_cj/id002_cj_cond=3_iext=3.1_eps1=-0.5_default_mvarmodel.npz\n",
      "/Users/adam2392/Downloads/temp/id002_cj/id002_cj_cond=3_iext=3.1_eps1=-0.5_default_pert.json\n",
      "/Users/adam2392/Downloads/temp/id002_cj/id002_cj_cond=3_iext=3.1_eps1=-0.5_default_pertmodel.npz\n"
     ]
    }
   ],
   "source": [
    "numcores = 4\n",
    "mvar_tempdir = os.path.join('/Users/adam2392/Downloads/temp/mvar/', jsonfilepath)\n",
    "mvar_outputdir = os.path.join('/Users/adam2392/Downloads/temp', patient)\n",
    "if not os.path.exists(mvar_tempdir):\n",
    "    os.makedirs(mvar_tempdir)\n",
    "if not os.path.exists(mvar_outputdir):\n",
    "    os.makedirs(mvar_outputdir)\n",
    "    \n",
    "# parameters\n",
    "winsize = 250\n",
    "stepsize = 125\n",
    "samplerate = metadata['samplerate']\n",
    "\n",
    "mvar_outputmetafilename = metadata['rawfilename'].split('.npz')[0]+'_mvar.json'\n",
    "mvar_outputfilename = mvar_outputmetafilename.split('.json')[0] + 'model.npz'\n",
    "mvar_outputfilename = os.path.join(mvar_outputdir, mvar_outputfilename)\n",
    "mvar_outputmetafilename = os.path.join(mvar_outputdir, mvar_outputmetafilename)\n",
    "print(mvar_outputmetafilename)\n",
    "print(mvar_outputfilename)\n",
    "\n",
    "pert_tempdir = mvar_tempdir.replace('mvar', 'pert')\n",
    "pert_outputdir = os.path.join('/Users/adam2392/Downloads/temp', patient)\n",
    "if not os.path.exists(pert_tempdir):\n",
    "    os.makedirs(pert_tempdir)\n",
    "if not os.path.exists(pert_outputdir):\n",
    "    os.makedirs(pert_outputdir)\n",
    "    \n",
    "# parameters\n",
    "radius = 1.5\n",
    "perturbtype = 'C'\n",
    "\n",
    "pert_outputmetafilename = mvar_outputmetafilename.replace('mvar', 'pert')\n",
    "pert_outputfilename = mvar_outputfilename.replace('mvarmodel', 'pertmodel')\n",
    "\n",
    "pert_outputfilename = os.path.join(pert_outputdir, pert_outputfilename)\n",
    "pert_outputmetafilename = os.path.join(pert_outputdir, pert_outputmetafilename)\n",
    "print(pert_outputmetafilename)\n",
    "print(pert_outputfilename)\n",
    "idatafile=0"
   ]
  },
  {
   "cell_type": "code",
   "execution_count": 12,
   "metadata": {},
   "outputs": [
    {
     "name": "stdout",
     "output_type": "stream",
     "text": [
      "dict_keys(['id001_bt', 'id002_sd', 'id003_mg', 'id004_bj', 'id005_ft', 'id006_mr', 'id007_rd', 'id008_dmc', 'id009_ba', 'id010_cmn', 'id011_gr', 'id013_lk', 'id014_vc', 'id015_gjl', 'id016_lm', 'id017_mk', 'id018_lo', 'id020_lma', 'id021_jc', 'id022_te', 'id023_br'])\n",
      "dict_keys(['chanlabels', 'chanxyz', 'clinez', 'clinpz', 'condspeed', 'ezindices', 'ezregs', 'gainmat', 'goodchaninds', 'offsettimes', 'onsettimes', 'patient', 'pzindices', 'pzregs', 'regions', 'regions_centers', 'samplerate', 'shuffledpat', 'simfilename', 'x0ez', 'x0norm', 'x0pz', 'lowpass_freq', 'highpass_freq', 'meas_date', 'linefreq', 'onsetsec', 'offsetsec', 'onsetind', 'offsetind', 'rawfilename', 'reference', 'type', 'bad_channels', 'non_eeg_channels', 'chanxyzlabels', 'contact_regs', 'regezinds', 'atlas', 'clinezelecs', 'clinresectelecs'])\n",
      "None\n",
      "[88, 68, 87]\n",
      "[\"pp'5\" \"gl'12\" \"pp'4\"]\n"
     ]
    }
   ],
   "source": [
    "with open('/Users/adam2392/Downloads/tngpipeline/clincontacts.json', mode='r') as f:\n",
    "    clincontacts = json.load(f)\n",
    "print(clincontacts.keys())\n",
    "print(metadata.keys())\n",
    "chanlabels = metadata['chanlabels']\n",
    "gainmat = metadata['gainmat']\n",
    "contact_regs = metadata['contact_regs']\n",
    "if patient in clincontacts.keys():\n",
    "    clinezelecs = clincontacts[patient]\n",
    "else:\n",
    "    clinregez = metadata['clinez'] #metadata['regezinds']\n",
    "    clinregezinds = rawloader.regezinds\n",
    "    clinezinds = map_ind_with_gain(gainmat, clinregezinds, thresh=0.1)\n",
    "    clinezelecs = chanlabels[clinezinds]\n",
    "#     clinregezinds = [ind for ind, reg in enumerate(metadata['regions']) if reg in clinregez]\n",
    "\n",
    "print(recording.regezinds)\n",
    "print(clinezinds)\n",
    "print(clinezelecs)\n",
    "# print(len(chanlabels))\n",
    "# print(len(clinezelecs))"
   ]
  },
  {
   "cell_type": "code",
   "execution_count": 13,
   "metadata": {},
   "outputs": [
    {
     "name": "stdout",
     "output_type": "stream",
     "text": [
      "250\n",
      "1000\n",
      "359\n",
      "/Users/adam2392/Downloads/temp/mvar/id002_cj_cond=3_iext=3.1_eps1=-0.5_default.json\n",
      "/Users/adam2392/Downloads/temp/mvar/id002_cj_cond=3_iext=3.1_eps1=-0.5_default.json\n"
     ]
    }
   ],
   "source": [
    "# run mvar analysis\n",
    "runcompute = MvarMPModel(patient, winsize, stepsize, samplerate, \n",
    "                             reference, numcores, mvar_tempdir, \n",
    "                             mvar_outputmetafilename, mvar_outputfilename)\n",
    "runcompute.loaddata(rawdata)\n",
    "runcompute.loadmetadata(metadata)\n",
    "numwins = runcompute.numwins\n",
    "\n",
    "print(runcompute.winsize)\n",
    "print(runcompute.samplerate)\n",
    "print(numwins)\n",
    "print(mvar_tempdir)\n",
    "print(runcompute.tempdir)"
   ]
  },
  {
   "cell_type": "code",
   "execution_count": 14,
   "metadata": {},
   "outputs": [
    {
     "name": "stdout",
     "output_type": "stream",
     "text": [
      "created temporary directory /Users/adam2392/Downloads/temp/mvar/id002_cj_cond=3_iext=3.1_eps1=-0.5_default.jsonabout to run pool!Finished mvar model computation for 359 windows.Saved metadata as json!  dict_keys(['chanlabels', 'chanxyz', 'clinez', 'clinpz', 'condspeed', 'ezindices', 'ezregs', 'gainmat', 'goodchaninds', 'offsettimes', 'onsettimes', 'patient', 'pzindices', 'pzregs', 'regions', 'regions_centers', 'samplerate', 'shuffledpat', 'simfilename', 'x0ez', 'x0norm', 'x0pz', 'lowpass_freq', 'highpass_freq', 'meas_date', 'linefreq', 'onsetsec', 'offsetsec', 'onsetind', 'offsetind', 'rawfilename', 'reference', 'type', 'bad_channels', 'non_eeg_channels', 'chanxyzlabels', 'contact_regs', 'regezinds', 'atlas', 'clinezelecs', 'clinresectelecs', 'winsize', 'stepsize', 'timepoints', 'onsetwin', 'offsetwin', 'mvarfilename'])\n"
     ]
    }
   ],
   "source": [
    "runcompute.run_all()"
   ]
  },
  {
   "cell_type": "code",
   "execution_count": 15,
   "metadata": {},
   "outputs": [
    {
     "name": "stdout",
     "output_type": "stream",
     "text": [
      "dict_keys(['chanlabels', 'chanxyz', 'clinez', 'clinpz', 'condspeed', 'ezindices', 'ezregs', 'gainmat', 'goodchaninds', 'offsettimes', 'onsettimes', 'patient', 'pzindices', 'pzregs', 'regions', 'regions_centers', 'samplerate', 'shuffledpat', 'simfilename', 'x0ez', 'x0norm', 'x0pz', 'lowpass_freq', 'highpass_freq', 'meas_date', 'linefreq', 'onsetsec', 'offsetsec', 'onsetind', 'offsetind', 'rawfilename', 'reference', 'type', 'bad_channels', 'non_eeg_channels', 'chanxyzlabels', 'contact_regs', 'regezinds', 'atlas', 'clinezelecs', 'clinresectelecs', 'winsize', 'stepsize', 'timepoints', 'onsetwin', 'offsetwin', 'mvarfilename'])\n",
      "1000\n",
      "None\n"
     ]
    }
   ],
   "source": [
    "print(metadata.keys())\n",
    "print(samplerate)\n",
    "print(metadata['onsetsec'])\n",
    "\n",
    "merger = MergeCompute(mvar_tempdir, numwins)\n",
    "merger.loadmetafile(mvar_outputmetafilename)\n",
    "merger.mergemvardata(mvar_outputfilename)\n",
    "merger.metadata['mvarfilename'] = os.path.basename(mvar_outputfilename)\n",
    "merger._writejsonfile(merger.metadata, mvar_outputmetafilename)"
   ]
  },
  {
   "cell_type": "code",
   "execution_count": 16,
   "metadata": {},
   "outputs": [
    {
     "name": "stdout",
     "output_type": "stream",
     "text": [
      "dict_keys(['atlas', 'bad_channels', 'chanlabels', 'chanxyz', 'chanxyzlabels', 'clinez', 'clinezelecs', 'clinpz', 'clinresectelecs', 'condspeed', 'contact_regs', 'ezindices', 'ezregs', 'gainmat', 'goodchaninds', 'highpass_freq', 'linefreq', 'lowpass_freq', 'meas_date', 'mvarfilename', 'non_eeg_channels', 'offsetind', 'offsetsec', 'offsettimes', 'offsetwin', 'onsetind', 'onsetsec', 'onsettimes', 'onsetwin', 'patient', 'pzindices', 'pzregs', 'rawfilename', 'reference', 'regezinds', 'regions', 'regions_centers', 'samplerate', 'shuffledpat', 'simfilename', 'stepsize', 'timepoints', 'type', 'winsize', 'x0ez', 'x0norm', 'x0pz'])\n"
     ]
    }
   ],
   "source": [
    "datastruct = np.load(os.path.join(mvar_outputfilename))\n",
    "adjmats = datastruct['adjmats']\n",
    "\n",
    "with open(os.path.join(mvar_outputmetafilename), encoding=\"utf8\") as f:\n",
    "    metadata = json.load(f)\n",
    "print(metadata.keys())"
   ]
  },
  {
   "cell_type": "code",
   "execution_count": 17,
   "metadata": {},
   "outputs": [
    {
     "name": "stdout",
     "output_type": "stream",
     "text": [
      "359\n",
      "/Users/adam2392/Downloads/temp/pert/id002_cj_cond=3_iext=3.1_eps1=-0.5_default.json\n"
     ]
    }
   ],
   "source": [
    "# run perturbation analysis\n",
    "runcompute = PertMPModel(patient, radius, perturbtype, numcores, \n",
    "                             pert_tempdir, pert_outputmetafilename, pert_outputfilename)\n",
    "runcompute.loaddata(adjmats)\n",
    "runcompute.loadmetadata(metadata)\n",
    "numwins = runcompute.numwins\n",
    "print(numwins)\n",
    "print(runcompute.tempdir)"
   ]
  },
  {
   "cell_type": "code",
   "execution_count": null,
   "metadata": {},
   "outputs": [
    {
     "name": "stdout",
     "output_type": "stream",
     "text": [
      "created temporary directory /Users/adam2392/Downloads/temp/pert/id002_cj_cond=3_iext=3.1_eps1=-0.5_default.jsonabout to run pool!\n"
     ]
    }
   ],
   "source": [
    "runcompute.run_all()"
   ]
  },
  {
   "cell_type": "code",
   "execution_count": null,
   "metadata": {},
   "outputs": [],
   "source": [
    "print(pert_tempdir)\n",
    "merger = MergeCompute(pert_tempdir, numwins)\n",
    "merger.loadmetafile(pert_outputmetafilename)\n",
    "merger.mergepertdata(pert_outputfilename)\n",
    "merger.metadata['pertfilename'] = os.path.basename(pert_outputfilename)\n",
    "merger._writejsonfile(merger.metadata, pert_outputmetafilename)"
   ]
  },
  {
   "cell_type": "code",
   "execution_count": null,
   "metadata": {},
   "outputs": [],
   "source": []
  },
  {
   "cell_type": "code",
   "execution_count": null,
   "metadata": {},
   "outputs": [],
   "source": []
  }
 ],
 "metadata": {
  "kernelspec": {
   "display_name": "fragility3",
   "language": "python",
   "name": "fragility3"
  },
  "language_info": {
   "codemirror_mode": {
    "name": "ipython",
    "version": 3
   },
   "file_extension": ".py",
   "mimetype": "text/x-python",
   "name": "python",
   "nbconvert_exporter": "python",
   "pygments_lexer": "ipython3",
   "version": "3.6.5"
  }
 },
 "nbformat": 4,
 "nbformat_minor": 2
}
