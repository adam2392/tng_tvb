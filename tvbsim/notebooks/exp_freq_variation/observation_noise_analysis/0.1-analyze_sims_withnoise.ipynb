{
 "cells": [
  {
   "cell_type": "markdown",
   "metadata": {},
   "source": [
    "# Analyze 3 Different Patients With Observation Noise\n",
    "\n",
    "6/28/18: We want to take a look at at least 3 different patients with noise levels to investigate the degree we want to worry about observation noise in our tvb models for downstream fragility analysis.\n",
    "\n",
    "Here, we will focus on patients: id001_bt, id013_pg, id010_cmn just as a spread between a successful patient we've tried already with id013_pg and others.\n",
    "\n",
    "Varying \n",
    "- independence of noise input\n",
    "- amplitude of noise input\n",
    "- degree of variability (covariance, color, etc.)"
   ]
  },
  {
   "cell_type": "code",
   "execution_count": 1,
   "metadata": {},
   "outputs": [],
   "source": [
    "import numpy as np\n",
    "import pandas as pd\n",
    "import os\n",
    "import sys\n",
    "import mne\n",
    "np.random.seed(123456789)\n",
    "sys.path.append('../../../')\n",
    "sys.path.append('/Users/adam2392/Documents/fragility_analysis/')\n",
    "\n",
    "import fragility\n",
    "from fragility.execute.singlecore.singlefragility import SingleFragility\n",
    "\n",
    "from fragility.io.loaders.perfile.loaddataset import LoadDataset\n",
    "# import basic plotting\n",
    "import matplotlib\n",
    "import matplotlib.pyplot as plt\n",
    "import seaborn as sns\n",
    "\n",
    "import logging\n",
    "logger = logging.getLogger()\n",
    "logger.setLevel(logging.ERROR)\n",
    "\n",
    "# Import magic commands for jupyter notebook \n",
    "# - autoreloading a module\n",
    "# - profiling functions for memory usage and scripts\n",
    "%load_ext line_profiler\n",
    "%load_ext memory_profiler\n",
    "%matplotlib inline\n",
    "%load_ext autoreload\n",
    "%autoreload 2"
   ]
  },
  {
   "cell_type": "code",
   "execution_count": 43,
   "metadata": {},
   "outputs": [],
   "source": [
    "# fragility algo. parameters\n",
    "winsize = 250\n",
    "stepsize = 125\n",
    "samplerate = 1000\n",
    "radius = 1.5\n",
    "perturbtype = 'C'\n",
    "\n",
    "fragmodel = SingleFragility(winsize=winsize, stepsize=stepsize, samplerate=samplerate,\n",
    "                            radius=radius, perturbtype=perturbtype)\n"
   ]
  },
  {
   "cell_type": "code",
   "execution_count": 35,
   "metadata": {},
   "outputs": [
    {
     "name": "stdout",
     "output_type": "stream",
     "text": [
      "BTcrisepartielle+preictalspiking_0009.json\n",
      "loading data from  /Users/adam2392/Downloads/tngpipeline/id001_bt/elec\n"
     ]
    },
    {
     "name": "stderr",
     "output_type": "stream",
     "text": [
      "/Users/adam2392/Documents/fragility_analysis/fragility/io/loaders/base.py:178: FutureWarning: Method .as_matrix will be removed in a future version. Use .values instead.\n",
      "  self.logger.debug(\"\\nLoaded in seeg xyz coords!\\n\")\n",
      "/Users/adam2392/Documents/fragility_analysis/fragility/io/utils/elecs.py:8: VisibleDeprecationWarning: Reading unicode strings without specifying the encoding argument is deprecated. Set the encoding, use None for the system default.\n",
      "  data = np.genfromtxt(fl, dtype=None)  # , encoding='utf-8')\n",
      "/Users/adam2392/Documents/fragility_analysis/fragility/io/loaders/base.py:196: FutureWarning: Method .as_matrix will be removed in a future version. Use .values instead.\n",
      "  self.ezinds = np.where(reginds == 1)[0]\n"
     ]
    }
   ],
   "source": [
    "# load in patient data and rawdata\n",
    "patient = 'id001_bt'\n",
    "root_dir = os.path.join('/Users/adam2392/Downloads/tngpipeline/', patient)\n",
    "datafiles = [f for f in os.listdir(os.path.join(root_dir, 'seeg/fif/')) if f.endswith('.json')]\n",
    "datafile = datafiles[0]\n",
    "print(datafile)\n",
    "loader = LoadDataset(root_dir=root_dir, \n",
    "                datafile=datafile, patient=patient,\n",
    "                 preload=True, reference='monopolar')"
   ]
  },
  {
   "cell_type": "code",
   "execution_count": null,
   "metadata": {},
   "outputs": [],
   "source": [
    "# load in patient data and rawdata\n",
    "patient = 'id001_bt'\n",
    "expname = 'exp020'\n",
    "root_dir = os.path.join('/Users/adam2392/Downloads/tngpipeline/', patient)\n",
    "tvbsimdir = os.path.join('~/Downloads/tngcluster/', expname, patient)\n",
    "datafiles = [f for f in os.listdir(os.path.join(tvbsimdir)) if f.endswith('.json')]\n",
    "datafile = datafiles[0]\n",
    "print(datafile)\n",
    "loader = LoadSimDataset(root_dir=tvbsimdir,\n",
    "                rawdatadir=root_dir, \n",
    "                datafile=datafile, \n",
    "                patient=patient,\n",
    "                 preload=True, reference='monopolar')"
   ]
  },
  {
   "cell_type": "markdown",
   "metadata": {},
   "source": [
    "# Add Varying Functions of Noise"
   ]
  },
  {
   "cell_type": "code",
   "execution_count": null,
   "metadata": {},
   "outputs": [],
   "source": [
    "# get sample distribution of the raw data ampltidue, etc.\n"
   ]
  },
  {
   "cell_type": "code",
   "execution_count": null,
   "metadata": {},
   "outputs": [],
   "source": [
    "# vary the variability of the noise - add multiple independent sources\n"
   ]
  },
  {
   "cell_type": "markdown",
   "metadata": {},
   "source": [
    "# Run Fragility Analysis"
   ]
  },
  {
   "cell_type": "code",
   "execution_count": 38,
   "metadata": {},
   "outputs": [
    {
     "name": "stdout",
     "output_type": "stream",
     "text": [
      "(97, 766976)\n",
      "(97,)\n",
      "(97,)\n",
      "(97, 3)\n"
     ]
    }
   ],
   "source": [
    "print(loader.rawdata.shape)\n",
    "print(loader.chanlabels.shape)\n",
    "print(loader.contact_regs.shape)\n",
    "print(loader.chanxyz.shape)"
   ]
  },
  {
   "cell_type": "code",
   "execution_count": 45,
   "metadata": {},
   "outputs": [
    {
     "ename": "KeyboardInterrupt",
     "evalue": "",
     "output_type": "error",
     "traceback": [
      "\u001b[0;31m---------------------------------------------------------------------------\u001b[0m",
      "\u001b[0;31mKeyboardInterrupt\u001b[0m                         Traceback (most recent call last)",
      "\u001b[0;32m<ipython-input-45-66dde36c9d35>\u001b[0m in \u001b[0;36m<module>\u001b[0;34m()\u001b[0m\n\u001b[1;32m      3\u001b[0m \u001b[0;34m\u001b[0m\u001b[0m\n\u001b[1;32m      4\u001b[0m \u001b[0;32mfor\u001b[0m \u001b[0miwin\u001b[0m \u001b[0;32min\u001b[0m \u001b[0mrange\u001b[0m\u001b[0;34m(\u001b[0m\u001b[0mlen\u001b[0m\u001b[0;34m(\u001b[0m\u001b[0mfragmodel\u001b[0m\u001b[0;34m.\u001b[0m\u001b[0msamplepoints\u001b[0m\u001b[0;34m)\u001b[0m\u001b[0;34m)\u001b[0m\u001b[0;34m:\u001b[0m\u001b[0;34m\u001b[0m\u001b[0m\n\u001b[0;32m----> 5\u001b[0;31m     \u001b[0mfragmodel\u001b[0m\u001b[0;34m.\u001b[0m\u001b[0mrunmvarsingle\u001b[0m\u001b[0;34m(\u001b[0m\u001b[0mrawdata\u001b[0m\u001b[0;34m,\u001b[0m \u001b[0miwin\u001b[0m\u001b[0;34m)\u001b[0m\u001b[0;34m\u001b[0m\u001b[0m\n\u001b[0m\u001b[1;32m      6\u001b[0m \u001b[0;34m\u001b[0m\u001b[0m\n\u001b[1;32m      7\u001b[0m \u001b[0;32mfor\u001b[0m \u001b[0miwin\u001b[0m \u001b[0;32min\u001b[0m \u001b[0mrange\u001b[0m\u001b[0;34m(\u001b[0m\u001b[0mlen\u001b[0m\u001b[0;34m(\u001b[0m\u001b[0mfragmodel\u001b[0m\u001b[0;34m.\u001b[0m\u001b[0msamplepoints\u001b[0m\u001b[0;34m)\u001b[0m\u001b[0;34m)\u001b[0m\u001b[0;34m:\u001b[0m\u001b[0;34m\u001b[0m\u001b[0m\n",
      "\u001b[0;32m~/Documents/fragility_analysis/fragility/execute/singlecore/singlefragility.py\u001b[0m in \u001b[0;36mrunmvarsingle\u001b[0;34m(self, raweeg, iwin, normalize)\u001b[0m\n\u001b[1;32m     75\u001b[0m \u001b[0;34m\u001b[0m\u001b[0m\n\u001b[1;32m     76\u001b[0m         \u001b[0;31m# 2. Compute the mvar-1 model\u001b[0m\u001b[0;34m\u001b[0m\u001b[0;34m\u001b[0m\u001b[0m\n\u001b[0;32m---> 77\u001b[0;31m         \u001b[0madjmat\u001b[0m \u001b[0;34m=\u001b[0m \u001b[0mself\u001b[0m\u001b[0;34m.\u001b[0m\u001b[0mmvarmodel\u001b[0m\u001b[0;34m.\u001b[0m\u001b[0mmvaradjacencymatrix\u001b[0m\u001b[0;34m(\u001b[0m\u001b[0meegwin\u001b[0m\u001b[0;34m)\u001b[0m\u001b[0;34m\u001b[0m\u001b[0m\n\u001b[0m\u001b[1;32m     78\u001b[0m         \u001b[0mself\u001b[0m\u001b[0;34m.\u001b[0m\u001b[0madjmats\u001b[0m\u001b[0;34m.\u001b[0m\u001b[0mappend\u001b[0m\u001b[0;34m(\u001b[0m\u001b[0madjmat\u001b[0m\u001b[0;34m)\u001b[0m\u001b[0;34m\u001b[0m\u001b[0m\n\u001b[1;32m     79\u001b[0m         \u001b[0;32mreturn\u001b[0m \u001b[0madjmat\u001b[0m\u001b[0;34m\u001b[0m\u001b[0m\n",
      "\u001b[0;32m~/Documents/fragility_analysis/fragility/base/model/mvarmodel.py\u001b[0m in \u001b[0;36mmvaradjacencymatrix\u001b[0;34m(self, eegwin)\u001b[0m\n\u001b[1;32m     41\u001b[0m         \u001b[0mobvector\u001b[0m \u001b[0;34m=\u001b[0m \u001b[0mnp\u001b[0m\u001b[0;34m.\u001b[0m\u001b[0mndarray\u001b[0m\u001b[0;34m.\u001b[0m\u001b[0mflatten\u001b[0m\u001b[0;34m(\u001b[0m\u001b[0meegwin\u001b[0m\u001b[0;34m[\u001b[0m\u001b[0;34m:\u001b[0m\u001b[0;34m,\u001b[0m \u001b[0;36m1\u001b[0m\u001b[0;34m:\u001b[0m\u001b[0;34m]\u001b[0m\u001b[0;34m,\u001b[0m \u001b[0morder\u001b[0m\u001b[0;34m=\u001b[0m\u001b[0;34m'F'\u001b[0m\u001b[0;34m)\u001b[0m\u001b[0;34m\u001b[0m\u001b[0m\n\u001b[1;32m     42\u001b[0m         \u001b[0;31m# 3. perform sparse least squares and reshape vector -> mat\u001b[0m\u001b[0;34m\u001b[0m\u001b[0;34m\u001b[0m\u001b[0m\n\u001b[0;32m---> 43\u001b[0;31m         \u001b[0mtheta\u001b[0m \u001b[0;34m=\u001b[0m \u001b[0mself\u001b[0m\u001b[0;34m.\u001b[0m\u001b[0m_computelstsq\u001b[0m\u001b[0;34m(\u001b[0m\u001b[0meegwin\u001b[0m\u001b[0;34m,\u001b[0m \u001b[0mobvector\u001b[0m\u001b[0;34m)\u001b[0m\u001b[0;34m\u001b[0m\u001b[0m\n\u001b[0m\u001b[1;32m     44\u001b[0m         \u001b[0madjmat\u001b[0m \u001b[0;34m=\u001b[0m \u001b[0mtheta\u001b[0m\u001b[0;34m.\u001b[0m\u001b[0mreshape\u001b[0m\u001b[0;34m(\u001b[0m\u001b[0;34m(\u001b[0m\u001b[0mnumchans\u001b[0m\u001b[0;34m,\u001b[0m \u001b[0mnumchans\u001b[0m\u001b[0;34m)\u001b[0m\u001b[0;34m)\u001b[0m\u001b[0;34m\u001b[0m\u001b[0m\n\u001b[1;32m     45\u001b[0m         \u001b[0;31m# return adjacency matrix to function call\u001b[0m\u001b[0;34m\u001b[0m\u001b[0;34m\u001b[0m\u001b[0m\n",
      "\u001b[0;32m~/Documents/fragility_analysis/fragility/base/model/mvarmodel.py\u001b[0m in \u001b[0;36m_computelstsq\u001b[0;34m(self, eegwin, obvector)\u001b[0m\n\u001b[1;32m     75\u001b[0m             \u001b[0mcolinds\u001b[0m \u001b[0;34m=\u001b[0m \u001b[0mnp\u001b[0m\u001b[0;34m.\u001b[0m\u001b[0marange\u001b[0m\u001b[0;34m(\u001b[0m\u001b[0;34m(\u001b[0m\u001b[0michan\u001b[0m\u001b[0;34m)\u001b[0m \u001b[0;34m*\u001b[0m \u001b[0mnumchans\u001b[0m\u001b[0;34m,\u001b[0m \u001b[0;34m(\u001b[0m\u001b[0michan\u001b[0m \u001b[0;34m+\u001b[0m \u001b[0;36m1\u001b[0m\u001b[0;34m)\u001b[0m \u001b[0;34m*\u001b[0m \u001b[0mnumchans\u001b[0m\u001b[0;34m)\u001b[0m\u001b[0;34m\u001b[0m\u001b[0m\n\u001b[1;32m     76\u001b[0m             \u001b[0;31m# slice through H mat and build it\u001b[0m\u001b[0;34m\u001b[0m\u001b[0;34m\u001b[0m\u001b[0m\n\u001b[0;32m---> 77\u001b[0;31m             \u001b[0mH\u001b[0m\u001b[0;34m[\u001b[0m\u001b[0mnp\u001b[0m\u001b[0;34m.\u001b[0m\u001b[0mix_\u001b[0m\u001b[0;34m(\u001b[0m\u001b[0mrowinds\u001b[0m\u001b[0;34m,\u001b[0m \u001b[0mcolinds\u001b[0m\u001b[0;34m)\u001b[0m\u001b[0;34m]\u001b[0m \u001b[0;34m=\u001b[0m \u001b[0mbuff\u001b[0m\u001b[0;34m\u001b[0m\u001b[0m\n\u001b[0m\u001b[1;32m     78\u001b[0m \u001b[0;34m\u001b[0m\u001b[0m\n\u001b[1;32m     79\u001b[0m         \u001b[0;31m# 2: convert H to sparse matrix format and compute sparse least squares\u001b[0m\u001b[0;34m\u001b[0m\u001b[0;34m\u001b[0m\u001b[0m\n",
      "\u001b[0;32m~/Documents/fragility_analysis/.venv/lib/python3.6/site-packages/scipy/sparse/dok.py\u001b[0m in \u001b[0;36m__setitem__\u001b[0;34m(self, index, x)\u001b[0m\n\u001b[1;32m    299\u001b[0m             \u001b[0mj\u001b[0m\u001b[0;34m[\u001b[0m\u001b[0mj\u001b[0m \u001b[0;34m<\u001b[0m \u001b[0;36m0\u001b[0m\u001b[0;34m]\u001b[0m \u001b[0;34m+=\u001b[0m \u001b[0mself\u001b[0m\u001b[0;34m.\u001b[0m\u001b[0mshape\u001b[0m\u001b[0;34m[\u001b[0m\u001b[0;36m1\u001b[0m\u001b[0;34m]\u001b[0m\u001b[0;34m\u001b[0m\u001b[0m\n\u001b[1;32m    300\u001b[0m \u001b[0;34m\u001b[0m\u001b[0m\n\u001b[0;32m--> 301\u001b[0;31m         \u001b[0mdict\u001b[0m\u001b[0;34m.\u001b[0m\u001b[0mupdate\u001b[0m\u001b[0;34m(\u001b[0m\u001b[0mself\u001b[0m\u001b[0;34m,\u001b[0m \u001b[0mizip\u001b[0m\u001b[0;34m(\u001b[0m\u001b[0mizip\u001b[0m\u001b[0;34m(\u001b[0m\u001b[0mi\u001b[0m\u001b[0;34m.\u001b[0m\u001b[0mflat\u001b[0m\u001b[0;34m,\u001b[0m \u001b[0mj\u001b[0m\u001b[0;34m.\u001b[0m\u001b[0mflat\u001b[0m\u001b[0;34m)\u001b[0m\u001b[0;34m,\u001b[0m \u001b[0mx\u001b[0m\u001b[0;34m.\u001b[0m\u001b[0mflat\u001b[0m\u001b[0;34m)\u001b[0m\u001b[0;34m)\u001b[0m\u001b[0;34m\u001b[0m\u001b[0m\n\u001b[0m\u001b[1;32m    302\u001b[0m \u001b[0;34m\u001b[0m\u001b[0m\n\u001b[1;32m    303\u001b[0m         \u001b[0;32mif\u001b[0m \u001b[0;36m0\u001b[0m \u001b[0;32min\u001b[0m \u001b[0mx\u001b[0m\u001b[0;34m:\u001b[0m\u001b[0;34m\u001b[0m\u001b[0m\n",
      "\u001b[0;31mKeyboardInterrupt\u001b[0m: "
     ]
    }
   ],
   "source": [
    "rawdata = loader.rawdata\n",
    "fragmodel.computewins(rawdata.shape[1])\n",
    "\n",
    "for iwin in range(len(fragmodel.samplepoints)):\n",
    "    fragmodel.runmvarsingle(rawdata, iwin)\n",
    "    \n",
    "for iwin in range(len(fragmodel.samplepoints)):\n",
    "    fragmodel.runpertsingle(fragmodel.adjmats[iwin,...], iwin, fast=True)"
   ]
  },
  {
   "cell_type": "code",
   "execution_count": null,
   "metadata": {},
   "outputs": [],
   "source": []
  }
 ],
 "metadata": {
  "kernelspec": {
   "display_name": "fragility3",
   "language": "python",
   "name": "fragility3"
  },
  "language_info": {
   "codemirror_mode": {
    "name": "ipython",
    "version": 3
   },
   "file_extension": ".py",
   "mimetype": "text/x-python",
   "name": "python",
   "nbconvert_exporter": "python",
   "pygments_lexer": "ipython3",
   "version": "3.6.5"
  }
 },
 "nbformat": 4,
 "nbformat_minor": 2
}
