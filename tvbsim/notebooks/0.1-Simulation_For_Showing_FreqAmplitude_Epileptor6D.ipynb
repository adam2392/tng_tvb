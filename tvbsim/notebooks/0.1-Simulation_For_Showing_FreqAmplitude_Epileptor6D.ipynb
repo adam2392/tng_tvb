{
 "cells": [
  {
   "cell_type": "markdown",
   "metadata": {},
   "source": [
    "# Frequency/Amplitude Study of the Epileptor 6D\n",
    "\n",
    "- 6/12/18: from Marisa, I learned how the Epileptor fast system has regions of varying bifurcations, which produce different amplitude/frequency characteristics of the limit cycle (i.e. seizure period). Here, we want to produce simulations and track the trajectory of the fast subsystem variables"
   ]
  },
  {
   "cell_type": "code",
   "execution_count": 4,
   "metadata": {},
   "outputs": [
    {
     "name": "stdout",
     "output_type": "stream",
     "text": [
      "   INFO  log level set to INFO\n"
     ]
    }
   ],
   "source": [
    "import sys\n",
    "import numpy as np\n",
    "import os\n",
    "\n",
    "sys.path.append('../../')\n",
    "from tvb.simulator.lab import *\n",
    "import tvbsim"
   ]
  },
  {
   "cell_type": "code",
   "execution_count": null,
   "metadata": {},
   "outputs": [],
   "source": []
  }
 ],
 "metadata": {
  "kernelspec": {
   "display_name": "tvb",
   "language": "python",
   "name": "tvb"
  },
  "language_info": {
   "codemirror_mode": {
    "name": "ipython",
    "version": 2
   },
   "file_extension": ".py",
   "mimetype": "text/x-python",
   "name": "python",
   "nbconvert_exporter": "python",
   "pygments_lexer": "ipython2",
   "version": "2.7.15"
  }
 },
 "nbformat": 4,
 "nbformat_minor": 2
}
