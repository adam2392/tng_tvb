{
 "cells": [
  {
   "cell_type": "markdown",
   "metadata": {},
   "source": [
    "# Frequency/Amplitude Study of the Epileptor 6D\n",
    "\n",
    "- 6/12/18: from Marisa, I learned how the Epileptor fast system has regions of varying bifurcations, which produce different amplitude/frequency characteristics of the limit cycle (i.e. seizure period). Here, we want to produce simulations and track the trajectory of the fast subsystem variables"
   ]
  },
  {
   "cell_type": "code",
   "execution_count": 1,
   "metadata": {},
   "outputs": [
    {
     "name": "stdout",
     "output_type": "stream",
     "text": [
      "   INFO  log level set to INFO\n"
     ]
    }
   ],
   "source": [
    "import sys\n",
    "import numpy as np\n",
    "import os\n",
    "\n",
    "sys.path.append('../../')\n",
    "from tvb.simulator.lab import *\n",
    "import tvbsim\n",
    "\n",
    "# to run simulation and post processing and data loading\n",
    "from tvbsim.postprocess.postprocess import PostProcessor\n",
    "from tvbsim.postprocess.detectonsetoffset import DetectShift\n",
    "from tvbsim.maintvbexp import MainTVBSim\n",
    "from tvbsim.io.patient.subject import Subject\n",
    "from tvbsim.base.constants.config import Config\n",
    "\n",
    "# to run plotting at the end\n",
    "from tvbsim.visualize.plotter_sim import PlotterSim\n",
    "from tvbsim.base.dataobjects.timeseries import TimeseriesDimensions, Timeseries \n",
    "from collections import OrderedDict\n",
    "\n",
    "# import basic plotting\n",
    "import matplotlib\n",
    "import matplotlib.pyplot as plt\n",
    "import seaborn as sns\n",
    "\n",
    "# Import magic commands for jupyter notebook \n",
    "# - autoreloading a module\n",
    "# - profiling functions for memory usage and scripts\n",
    "%load_ext autoreload\n",
    "%autoreload 2\n",
    "%load_ext line_profiler\n",
    "%load_ext memory_profiler"
   ]
  },
  {
   "cell_type": "code",
   "execution_count": 2,
   "metadata": {},
   "outputs": [],
   "source": [
    "\n",
    "def save_processed_data(filename, times, epits, seegts, zts, state_vars):\n",
    "    print('finished simulating!')\n",
    "    print(epits.shape)\n",
    "    print(seegts.shape)\n",
    "    print(times.shape)\n",
    "    print(zts.shape)\n",
    "    print(state_vars.keys())\n",
    "\n",
    "    # save tseries\n",
    "    np.savez_compressed(filename, epits=epits, \n",
    "                                seegts=seegts,\n",
    "                                times=times, \n",
    "                                zts=zts, \n",
    "                                state_vars=state_vars)\n",
    "    \n",
    "def process_weights(conn, shuffle=False, patient=None, other_pats=[]):\n",
    "    if shuffle:\n",
    "        if other_pats and patient is not None:\n",
    "            # shuffle across patients\n",
    "            randpat = MainTVBSim().randshufflepats(other_pats, patient)   \n",
    "            shuffled_connfile = os.path.join(metadatadir, randpat, 'tvb', 'connectivity.zip')\n",
    "            if not os.path.exists(shuffled_connfile):\n",
    "                shuffled_connfile = os.path.join(metadatadir, randpat, 'tvb', 'connectivity.dk.zip')\n",
    "\n",
    "            conn = connectivity.Connectivity.from_file(shuffled_connfile)\n",
    "        elif patient is None and not other_pats:\n",
    "            # shuffle within patients\n",
    "            randweights = MainTVBSim().randshuffleweights(conn.weights)\n",
    "            conn.weights = randweights\n",
    "    return conn\n",
    "\n",
    "def initialize_tvb_model(loader, ezregions, pzregions, period):\n",
    "    ###################### INITIALIZE TVB SIMULATOR ##################\n",
    "    maintvbexp = MainTVBSim(loader.conn, condspeed=np.inf)\n",
    "    # load the necessary data files to run simulation\n",
    "    maintvbexp.loadseegxyz(seegfile=loader.seegfile)\n",
    "    maintvbexp.loadgainmat(gainfile=loader.gainfile)\n",
    "    maintvbexp.importsurfdata(surf=loader.surf)\n",
    "\n",
    "    ######### Model (Epileptor) Parameters ##########\n",
    "    epileptor_params = {\n",
    "        'r': 0.00037,#/1.5   # Temporal scaling in the third state variable\n",
    "        'Ks': -10,                 # Permittivity coupling, fast to slow time scale\n",
    "        'tt': 0.07,                   # time scale of simulation\n",
    "        'tau': 10,                   # Temporal scaling coefficient in fifth st var\n",
    "        'x0': -2.45, # x0c value = -2.05\n",
    "        # 'Iext': iext,\n",
    "    }\n",
    "    x0ez=-1.65\n",
    "    x0pz=-2.0 # x0pz = None\n",
    "    if ezregions is None:\n",
    "        x0ez = None\n",
    "    if pzregions is None:\n",
    "        x0pz = None\n",
    "    maintvbexp.loadepileptor(ezregions=ezregions, pzregions=pzregions,\n",
    "                            x0ez=x0ez, x0pz=x0pz,\n",
    "                            epileptor_params=epileptor_params)\n",
    "    allindices = np.hstack((maintvbexp.ezind, maintvbexp.pzind)).astype(int) \n",
    "    maintvbexp.ezindices = allindices\n",
    "    ######### Integrator Parameters ##########\n",
    "    ntau = 0\n",
    "    noise_cov = np.array([0.001, 0.001, 0.,\\\n",
    "                              0.0001, 0.0001, 0.])\n",
    "    # define cov noise for the stochastic heun integrator\n",
    "    hiss = noise.Additive(nsig=noise_cov, ntau=ntau)\n",
    "    # hiss = noise.Multiplicative(nsig=noise_cov)\n",
    "    integrator_params = {\n",
    "        'dt': 0.05,\n",
    "        'noise': hiss,\n",
    "    }\n",
    "    maintvbexp.loadintegrator(integrator_params)\n",
    "\n",
    "    # load couping\n",
    "    coupling_params = {\n",
    "        'a': 1.,\n",
    "    }\n",
    "    maintvbexp.loadcoupling(**coupling_params)\n",
    "\n",
    "    # load monitors\n",
    "    initcond = None\n",
    "    monitor_params = {\n",
    "        'period': period,\n",
    "        'moved': False,\n",
    "        'initcond': initcond\n",
    "    }\n",
    "    maintvbexp.loadmonitors(**monitor_params)\n",
    "    return maintvbexp"
   ]
  },
  {
   "cell_type": "code",
   "execution_count": 3,
   "metadata": {},
   "outputs": [
    {
     "name": "stdout",
     "output_type": "stream",
     "text": [
      "2018-06-12 19:07:30,540 - INFO - tvbsim.io.readers.read_connectivity - Starting to read a Connectivity from: /Users/adam2392/Downloads/tngpipeline/id001_bt/tvb/connectivity.dk.zip\n",
      "   INFO  Starting to read a Connectivity from: /Users/adam2392/Downloads/tngpipeline/id001_bt/tvb/connectivity.dk.zip\n",
      "2018-06-12 19:07:30,559 - INFO - tvbsim.io.readers.read_connectivity - Successfully read connectvity from: /Users/adam2392/Downloads/tngpipeline/id001_bt/tvb/connectivity.dk.zip\n",
      "   INFO  Successfully read connectvity from: /Users/adam2392/Downloads/tngpipeline/id001_bt/tvb/connectivity.dk.zip\n",
      "NOT USING SUBCORT\n",
      "2018-06-12 19:07:41,439 - DEBUG - Subject - \n",
      "Loaded in seeg xyz coords!\n",
      "\n",
      "2018-06-12 19:07:46,727 - DEBUG - Subject - \n",
      "Mapped contacts to regions!\n",
      "\n",
      "('Checking tvb dir: ', True)\n",
      "('Checking seeg file: ', True)\n",
      "('Checking label volume file: ', True)\n",
      "('Checking connectivity file: ', True)\n",
      "('Checking ez hypothesis file: ', True)\n"
     ]
    }
   ],
   "source": [
    "# extract passed in variable\n",
    "patient = 'id001_bt'\n",
    "outputdatadir = '/Users/adam2392/Downloads/tvbexpsim/'\n",
    "metadatadir = '/Users/adam2392/Downloads/tngpipeline/'\n",
    "shuffleweights = True\n",
    "\n",
    "# set all directories to output data, get meta data, get raw data\n",
    "outputdatadir = os.path.join(outputdatadir, patient)\n",
    "if not os.path.exists(outputdatadir):\n",
    "    os.makedirs(outputdatadir)\n",
    "\n",
    "# define the parameter sweeping by changing iext\n",
    "iext_param_sweep = np.arange(2.0,4.0,0.1)\n",
    "iext_param_sweep = [3.0]\n",
    "\n",
    "# simulation parameters\n",
    "_factor = 1\n",
    "_samplerate = 1000*_factor # Hz\n",
    "sim_length = 20*_samplerate    \n",
    "period = 1./_factor\n",
    "\n",
    "rawdatadir = os.path.join(metadatadir, patient)\n",
    "\n",
    "# define sloader for this patient\n",
    "loader = Subject(name=patient, root_pat_dir=rawdatadir, preload=False)"
   ]
  },
  {
   "cell_type": "code",
   "execution_count": 4,
   "metadata": {},
   "outputs": [
    {
     "name": "stdout",
     "output_type": "stream",
     "text": [
      "WARNING  File 'hemispheres' not found in ZIP.\n"
     ]
    }
   ],
   "source": [
    "## OUTPUTFILE NAME ##\n",
    "filename = os.path.join(outputdatadir,\n",
    "            '{0}_sim.npz'.format(patient))\n",
    "metafilename = os.path.join(outputdatadir,\n",
    "            '{0}_sim.json'.format(patient))\n",
    "direc, simfilename = os.path.split(filename)\n",
    "\n",
    "# get the ez/pz indices we want to use\n",
    "clinezinds = loader.ezinds\n",
    "clinpzinds = []\n",
    "clinezregions = list(loader.conn.region_labels[clinezinds])\n",
    "clinpzregions = []\n",
    "\n",
    "modelezinds = clinezinds\n",
    "modelpzinds = clinpzinds\n",
    "modelezregions = clinezregions\n",
    "modelpzregions = clinpzregions\n",
    "# allclinregions = clinezregions + clinpzregions\n",
    "# sys.stdout.write(\"All clinical regions are: {}\".format(allclinregions))\n",
    "\n",
    "conn = connectivity.Connectivity.from_file(loader.connfile)\n",
    "loader.conn = conn\n",
    "maintvbexp = initialize_tvb_model(loader, ezregions=modelezregions, \n",
    "                pzregions=modelpzregions, period=period)"
   ]
  },
  {
   "cell_type": "code",
   "execution_count": 5,
   "metadata": {},
   "outputs": [
    {
     "name": "stdout",
     "output_type": "stream",
     "text": [
      "(20000,)\n",
      "(20000, 1, 161, 1)\n"
     ]
    }
   ],
   "source": [
    "# save metadata from the exp object and from here\n",
    "metadata = maintvbexp.get_metadata()\n",
    "metadata['patient'] = patient\n",
    "metadata['samplerate'] = _samplerate\n",
    "metadata['simfilename'] = simfilename\n",
    "metadata['clinez'] = clinezregions\n",
    "metadata['clinpz'] = clinpzregions\n",
    "\n",
    "######################## run simulation ########################\n",
    "configs = maintvbexp.setupsim()\n",
    "times, statevars_ts, seegts = maintvbexp.mainsim(sim_length=sim_length)\n",
    "\n",
    "print(times.shape)\n",
    "print(seegts.shape)"
   ]
  },
  {
   "cell_type": "code",
   "execution_count": null,
   "metadata": {},
   "outputs": [],
   "source": []
  }
 ],
 "metadata": {
  "kernelspec": {
   "display_name": "tvb",
   "language": "python",
   "name": "tvb"
  },
  "language_info": {
   "codemirror_mode": {
    "name": "ipython",
    "version": 2
   },
   "file_extension": ".py",
   "mimetype": "text/x-python",
   "name": "python",
   "nbconvert_exporter": "python",
   "pygments_lexer": "ipython2",
   "version": "2.7.15"
  }
 },
 "nbformat": 4,
 "nbformat_minor": 2
}
